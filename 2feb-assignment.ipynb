{
 "cells": [
  {
   "cell_type": "markdown",
   "id": "ba70f9ab-4143-4604-80a3-80f799e143b1",
   "metadata": {},
   "source": [
    "1.Explain with an example each when to use a for loop and a while loop."
   ]
  },
  {
   "cell_type": "markdown",
   "id": "b81560f3-6f47-4a4c-aa67-e719de857b7e",
   "metadata": {},
   "source": [
    "A for loop is used when you know the exact number of times you want to execute a block of code.\n",
    "It is generally used when you need to iterate over a sequence, such as a list or a string. For example,\n",
    "if you want to print each element in a list, you can use a for loop like this:"
   ]
  },
  {
   "cell_type": "code",
   "execution_count": 1,
   "id": "724566f8-f290-4d71-a1e9-ae3a39c07e23",
   "metadata": {},
   "outputs": [
    {
     "name": "stdout",
     "output_type": "stream",
     "text": [
      "1\n",
      "2\n",
      "3\n",
      "4\n",
      "5\n"
     ]
    }
   ],
   "source": [
    "my_list = [1, 2, 3, 4, 5]\n",
    "for num in my_list:\n",
    "    print(num)"
   ]
  },
  {
   "cell_type": "markdown",
   "id": "82c30772-8f46-4781-925b-059c24399c8d",
   "metadata": {},
   "source": [
    "A while loop is used when you don't know the exact number of times you want to execute a block of code,\n",
    "but you want to continue executing the code as long as a certain condition is true. For example, \n",
    "if you want to keep adding numbers to a sum until the sum is greater than 10, you can use a while loop like this:"
   ]
  },
  {
   "cell_type": "code",
   "execution_count": 2,
   "id": "dfb5e216-4aee-4d59-ae48-8796044ba938",
   "metadata": {},
   "outputs": [
    {
     "name": "stdout",
     "output_type": "stream",
     "text": [
      "15\n"
     ]
    }
   ],
   "source": [
    "total = 0\n",
    "num = 1\n",
    "while total <= 10:\n",
    "    total += num\n",
    "    num += 1\n",
    "print(total)"
   ]
  },
  {
   "cell_type": "markdown",
   "id": "3dab0e71-21f4-4a24-9070-d1ddf5f06990",
   "metadata": {},
   "source": [
    "QUE 2.Write a python program to print the sum and product of the first 10 natural numbers using for\n",
    "and while loop."
   ]
  },
  {
   "cell_type": "markdown",
   "id": "c85e0d72-a52e-48be-a40c-40645a270c16",
   "metadata": {},
   "source": [
    "for loop:"
   ]
  },
  {
   "cell_type": "code",
   "execution_count": 3,
   "id": "e7ba85f6-7690-436d-a085-8572d03f112c",
   "metadata": {},
   "outputs": [
    {
     "name": "stdout",
     "output_type": "stream",
     "text": [
      "Sum of first 10 natural numbers is: 55\n",
      "Product of first 10 natural numbers is: 3628800\n"
     ]
    }
   ],
   "source": [
    "sum = 0\n",
    "product = 1\n",
    "for num in range(1, 11):\n",
    "    sum += num\n",
    "    product *= num\n",
    "\n",
    "print(\"Sum of first 10 natural numbers is:\", sum)\n",
    "print(\"Product of first 10 natural numbers is:\", product)"
   ]
  },
  {
   "cell_type": "markdown",
   "id": "368cc93f-51cc-4224-85ff-ede1b901f36c",
   "metadata": {},
   "source": [
    "while loop:"
   ]
  },
  {
   "cell_type": "code",
   "execution_count": 4,
   "id": "0c5796d1-ee5a-4907-86ca-8e45b54afc9c",
   "metadata": {},
   "outputs": [
    {
     "name": "stdout",
     "output_type": "stream",
     "text": [
      "Sum of first 10 natural numbers is: 55\n",
      "Product of first 10 natural numbers is: 3628800\n"
     ]
    }
   ],
   "source": [
    "sum = 0\n",
    "product = 1\n",
    "num = 1\n",
    "while num <= 10:\n",
    "    sum += num\n",
    "    product *= num\n",
    "    num += 1\n",
    "\n",
    "print(\"Sum of first 10 natural numbers is:\", sum)\n",
    "print(\"Product of first 10 natural numbers is:\", product)"
   ]
  },
  {
   "cell_type": "markdown",
   "id": "ca3f9731-fa56-426e-aa36-944a2b174435",
   "metadata": {},
   "source": [
    "QUE 3.Create a python program to compute the electricity bill for a household.\n",
    "\n",
    "The per-unit charges in rupees are as follows: For the first 100 units, the user will be charged Rs. 4.5 per\n",
    "unit, for the next 100 units, the user will be charged Rs. 6 per unit, and for the next 100 units, the user will\n",
    "be charged Rs. 10 per unit, After 300 units and above the user will be charged Rs. 20 per unit.\n",
    "You are required to take the units of electricity consumed in a month from the user as input.\n",
    "Your program must pass this test case: when the unit of electricity consumed by the user in a month is\n",
    "310, the total electricity bill should be 2250."
   ]
  },
  {
   "cell_type": "code",
   "execution_count": 6,
   "id": "026b965d-ac0c-42e6-adfb-6eabe7335635",
   "metadata": {},
   "outputs": [
    {
     "name": "stdin",
     "output_type": "stream",
     "text": [
      "Enter the number of units consumed:  545\n"
     ]
    },
    {
     "name": "stdout",
     "output_type": "stream",
     "text": [
      "Electricity bill for the month is: 6950.0\n"
     ]
    }
   ],
   "source": [
    "units = int(input(\"Enter the number of units consumed: \"))\n",
    "\n",
    "\n",
    "if units <= 100:\n",
    "    bill = units * 4.5\n",
    "elif units <= 200:\n",
    "    bill = (100 * 4.5) + ((units - 100) * 6)\n",
    "elif units <= 300:\n",
    "    bill = (100 * 4.5) + (100 * 6) + ((units - 200) * 10)\n",
    "else:\n",
    "    bill = (100 * 4.5) + (100 * 6) + (100 * 10) + ((units - 300) * 20)\n",
    "\n",
    "print(\"Electricity bill for the month is:\", bill)"
   ]
  },
  {
   "cell_type": "code",
   "execution_count": null,
   "id": "f0c95ee2-e4c6-465c-b347-cfe68229ff5e",
   "metadata": {},
   "outputs": [],
   "source": []
  },
  {
   "cell_type": "code",
   "execution_count": null,
   "id": "0f2ece8e-b800-4e16-808c-28d034c8a68b",
   "metadata": {},
   "outputs": [],
   "source": []
  },
  {
   "cell_type": "markdown",
   "id": "58dfd4c9-c9ab-4246-9511-f0480dfc4573",
   "metadata": {},
   "source": [
    "QUE 4. Q4. Create a list of numbers from 1 to 100. Use for loop and while loop to calculate the cube of each\n",
    "       number and if the cube of that number is divisible by 4 or 5 then append that number in a list and print\n",
    "       that list."
   ]
  },
  {
   "cell_type": "markdown",
   "id": "8c6e2d7b-39c3-4154-9702-0c288628c85f",
   "metadata": {},
   "source": [
    "for loop"
   ]
  },
  {
   "cell_type": "code",
   "execution_count": 7,
   "id": "71f2f434-da0f-494d-a36f-821d2cfd1522",
   "metadata": {},
   "outputs": [
    {
     "name": "stdout",
     "output_type": "stream",
     "text": [
      "[2, 4, 5, 6, 8, 10, 12, 14, 15, 16, 18, 20, 22, 24, 25, 26, 28, 30, 32, 34, 35, 36, 38, 40, 42, 44, 45, 46, 48, 50, 52, 54, 55, 56, 58, 60, 62, 64, 65, 66, 68, 70, 72, 74, 75, 76, 78, 80, 82, 84, 85, 86, 88, 90, 92, 94, 95, 96, 98, 100]\n"
     ]
    }
   ],
   "source": [
    "cubes = [num**3 for num in range(1, 101)]\n",
    "\n",
    "result = []\n",
    "\n",
    "for cube in cubes:\n",
    "    if cube % 4 == 0 or cube % 5 == 0:\n",
    "        result.append(round(cube**(1/3)))\n",
    "\n",
    "print(result)\n",
    "        "
   ]
  },
  {
   "cell_type": "markdown",
   "id": "293e6430-2ca0-436d-a19f-a66423ad2f08",
   "metadata": {},
   "source": [
    "while loop"
   ]
  },
  {
   "cell_type": "code",
   "execution_count": 9,
   "id": "1a69665e-4ef0-49a1-b47f-b9b9f4304517",
   "metadata": {},
   "outputs": [
    {
     "name": "stdout",
     "output_type": "stream",
     "text": [
      "[2, 4, 5, 6, 8, 10, 12, 14, 15, 16, 18, 20, 22, 24, 25, 26, 28, 30, 32, 34, 35, 36, 38, 40, 42, 44, 45, 46, 48, 50, 52, 54, 55, 56, 58, 60, 62, 64, 65, 66, 68, 70, 72, 74, 75, 76, 78, 80, 82, 84, 85, 86, 88, 90, 92, 94, 95, 96, 98, 100]\n"
     ]
    }
   ],
   "source": [
    "cubes = [num**3 for num in range(1, 101)]\n",
    "\n",
    "result = []\n",
    "i = 0\n",
    "\n",
    "while i < len(cubes):\n",
    "    if cubes[i] % 4 == 0 or cubes[i] % 5 == 0:\n",
    "        result.append(round(cubes[i]**(1/3)))\n",
    "    i += 1\n",
    "    \n",
    "print(result)    "
   ]
  },
  {
   "cell_type": "code",
   "execution_count": null,
   "id": "930a7f84-2573-4c49-a5c1-8b1490ac6785",
   "metadata": {},
   "outputs": [],
   "source": []
  },
  {
   "cell_type": "markdown",
   "id": "edf41f49-f417-4064-8129-26571ffcd250",
   "metadata": {},
   "source": [
    "QUE 5. Write a program to filter count vowels in the below-given string.\n",
    "string = \"I want to become a data scientist\""
   ]
  },
  {
   "cell_type": "code",
   "execution_count": 13,
   "id": "1b080f4a-1f0b-4f84-82b6-046f2262003d",
   "metadata": {},
   "outputs": [
    {
     "name": "stdout",
     "output_type": "stream",
     "text": [
      "The number of vowels in the string is : 12\n"
     ]
    }
   ],
   "source": [
    "def count_vowels():\n",
    "    vowels = \"aeiouAEIOU\"\n",
    "    count = 0\n",
    "    for char in string:\n",
    "        if char in vowels:\n",
    "            count +=1\n",
    "    return count\n",
    "\n",
    "string = \"I want to become a data scientist\"\n",
    "print(\"The number of vowels in the string is :\",count_vowels())"
   ]
  },
  {
   "cell_type": "code",
   "execution_count": null,
   "id": "e07e8171-c2aa-4cd9-b506-3cab1b9e91f1",
   "metadata": {},
   "outputs": [],
   "source": []
  }
 ],
 "metadata": {
  "kernelspec": {
   "display_name": "Python 3 (ipykernel)",
   "language": "python",
   "name": "python3"
  },
  "language_info": {
   "codemirror_mode": {
    "name": "ipython",
    "version": 3
   },
   "file_extension": ".py",
   "mimetype": "text/x-python",
   "name": "python",
   "nbconvert_exporter": "python",
   "pygments_lexer": "ipython3",
   "version": "3.10.8"
  }
 },
 "nbformat": 4,
 "nbformat_minor": 5
}
